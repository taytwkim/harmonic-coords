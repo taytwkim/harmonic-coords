{
 "cells": [
  {
   "cell_type": "markdown",
   "id": "c2a4a95b-03e3-42ba-b768-46dc1e35cdf1",
   "metadata": {},
   "source": [
    "# Create Mesh for Project\n",
    "\n",
    "This notebook imports a svg file and triangulates the given shape.\n",
    "\n",
    "Libraries used in this notebook:\n",
    "* `svgpathtools` to read and process an svg file\n",
    "* `triangle` to triangulate"
   ]
  },
  {
   "cell_type": "code",
   "execution_count": null,
   "id": "8c9c7ab0-3119-489a-b549-16c1d8c3ddc8",
   "metadata": {},
   "outputs": [],
   "source": [
    "!pip install svgpathtools"
   ]
  },
  {
   "cell_type": "code",
   "execution_count": null,
   "id": "294ff748-0799-4ed8-b653-64919d5e77b3",
   "metadata": {},
   "outputs": [],
   "source": [
    "!pip install triangle"
   ]
  },
  {
   "cell_type": "code",
   "execution_count": null,
   "id": "8b723cd5-5fc1-4d31-8ace-b524c3935ef6",
   "metadata": {},
   "outputs": [],
   "source": [
    "from svgpathtools import svg2paths\n",
    "import numpy as np"
   ]
  },
  {
   "cell_type": "code",
   "execution_count": null,
   "id": "80eb05bb-f512-477c-a0e2-e9db295a7896",
   "metadata": {},
   "outputs": [],
   "source": [
    "def split_into_subpaths(path):\n",
    "    \"\"\"\n",
    "    When a cage + shape is created in inkscape, the result is a single path.\n",
    "    We want to split the path into two subpaths, one for the cage and one for the shape.\n",
    "    Return a list of subpaths.\n",
    "    \"\"\" \n",
    "    subpaths = []\n",
    "    current = []\n",
    "\n",
    "    for i, segment in enumerate(path):\n",
    "        if i == 0 or segment.start == path[i-1].end:\n",
    "            current.append(segment)\n",
    "        else: \n",
    "            # when the start of a segment doesn't match the end of the previous one, we have a new subpath\n",
    "            subpaths.append(current)\n",
    "            current = [segment]\n",
    "            \n",
    "    if current:\n",
    "        subpaths.append(current)\n",
    "    \n",
    "    return subpaths\n",
    "\n",
    "def sample_path(segments):\n",
    "    \"\"\"\n",
    "    Converts svg path (segments) to coordinates \n",
    "    \"\"\"\n",
    "    points = [(seg.start.real, seg.start.imag) for seg in segments]\n",
    "    points.append((segments[-1].end.real, segments[-1].end.imag))\n",
    "    \n",
    "    return np.array(points)"
   ]
  },
  {
   "cell_type": "code",
   "execution_count": null,
   "id": "29d9a430-64d8-4590-ab2f-91909c17ba8f",
   "metadata": {},
   "outputs": [],
   "source": [
    "paths, _ = svg2paths(\"data/star.svg\")\n",
    "path = paths[0]\n",
    "\n",
    "subpaths = split_into_subpaths(path)\n",
    "all_shapes = [sample_path(sub) for sub in subpaths]\n",
    "\n",
    "for i, shape in enumerate(all_shapes):\n",
    "    print(f\"Shape {i} has {len(shape)} points\")\n",
    "    # print(shape)"
   ]
  },
  {
   "cell_type": "code",
   "execution_count": null,
   "id": "686d994f-d26b-4193-b74b-435bcb1716a3",
   "metadata": {},
   "outputs": [],
   "source": [
    "import matplotlib.pyplot as plt\n",
    "\n",
    "# Plot the vertices to see if they look correct\n",
    "\n",
    "# the vertices are flipped upside down, flip the y-coords before plotting\n",
    "square_flipped = all_shapes[0]\n",
    "star_flipped = all_shapes[1]\n",
    "\n",
    "square_vertices = square_flipped.copy()\n",
    "star_vertices = star_flipped.copy()\n",
    "\n",
    "square_vertices[:, 1] *= -1\n",
    "star_vertices[:, 1] *= -1\n",
    "\n",
    "plt.figure(figsize=(6, 6))\n",
    "plt.plot(square_vertices[:, 0], square_vertices[:, 1], marker='o')\n",
    "plt.plot(star_vertices[:, 0], star_vertices[:, 1], marker='o')\n",
    "plt.show()"
   ]
  },
  {
   "cell_type": "code",
   "execution_count": null,
   "id": "b8e7b230-7264-4b2b-858e-2ee01588785a",
   "metadata": {},
   "outputs": [],
   "source": [
    "import numpy as np\n",
    "import triangle as tr\n",
    "import matplotlib.pyplot as plt\n",
    "\n",
    "# In order to triangulate, we first need to define edges.\n",
    "square_vertices = square_vertices[:-1]\n",
    "star_vertices = star_vertices[:-1]\n",
    "\n",
    "n_square = len(square_vertices)\n",
    "n_star = len(star_vertices)\n",
    "\n",
    "square_edges = [[i, i + 1] for i in range(n_square - 1)] + [[n_square - 1, 0]]\n",
    "star_edges = [[n_square + i, n_square + i + 1] for i in range(n_star - 1)] + [[n_square + n_star - 1, n_square]]\n",
    "\n",
    "edges = square_edges + star_edges\n",
    "vertices = np.vstack([square_vertices, star_vertices])"
   ]
  },
  {
   "cell_type": "code",
   "execution_count": null,
   "id": "85064ae3-b32e-4c7b-bf37-a0d66477e0d5",
   "metadata": {},
   "outputs": [],
   "source": [
    "import meshplot as mp\n",
    "\n",
    "triangulation_input = {\n",
    "    'vertices': vertices,\n",
    "    'segments': edges,\n",
    "}\n",
    "\n",
    "t = tr.triangulate(triangulation_input, 'pa50')\n",
    "\n",
    "mesh_vertices = t['vertices']\n",
    "mesh_triangles = t['triangles']\n",
    "\n",
    "plot = mp.plot(mesh_vertices, mesh_triangles, shading={\"wireframe\": True})"
   ]
  },
  {
   "cell_type": "code",
   "execution_count": null,
   "id": "34970589-1659-40e8-b653-0e3220d3498d",
   "metadata": {},
   "outputs": [],
   "source": [
    "def save_off(filename, vertices, triangles):\n",
    "    \"\"\"\n",
    "    Save mesh as an .off file.\n",
    "    \"\"\"\n",
    "    with open(filename, 'w') as f:\n",
    "        f.write(\"OFF\\n\")\n",
    "        f.write(f\"{len(vertices)} {len(triangles)} 0\\n\")\n",
    "\n",
    "        for v in vertices:\n",
    "            f.write(f\"{v[0]} {v[1]} 0.0\\n\")\n",
    "\n",
    "        for tri in triangles:\n",
    "            f.write(f\"3 {tri[0]} {tri[1]} {tri[2]}\\n\")"
   ]
  },
  {
   "cell_type": "code",
   "execution_count": null,
   "id": "23d0b271-f5ef-4e4d-a912-743ddf14221a",
   "metadata": {},
   "outputs": [],
   "source": [
    "save_off(\"./data/star.off\", mesh_vertices, mesh_triangles)"
   ]
  },
  {
   "cell_type": "code",
   "execution_count": null,
   "id": "72500259-93b6-4808-b3f3-22d3493d0112",
   "metadata": {},
   "outputs": [],
   "source": [
    "# We originally had four cage vertices (one at each corner of the square),\n",
    "# but meshing added more vertices along the cage boundaries.\n",
    "# Let's find out which points are now in the cage boundaries.\n",
    "\n",
    "from collections import defaultdict\n",
    "\n",
    "EPS = 1e-8\n",
    "\n",
    "square_x1, square_x2 = square_vertices[0][0], square_vertices[2][0]\n",
    "square_y1, square_y2 = square_vertices[0][1], square_vertices[2][1]\n",
    "\n",
    "def is_close(a, b, eps=EPS):\n",
    "    return np.abs(a - b) < eps\n",
    "\n",
    "def find_cage_side_indices(vertices, x1, x2, y1, y2):\n",
    "    \"\"\"\n",
    "    returns a dictionary of cage indicies, classified by left/right/bottom/top sides of the square\n",
    "    \"\"\"\n",
    "    sides = defaultdict(list)\n",
    "\n",
    "    for i in range(vertices.shape[0]):\n",
    "        if is_close(vertices[i, 0], x1):\n",
    "            sides['left'].append(i)\n",
    "            \n",
    "        if is_close(vertices[i, 0], x2):\n",
    "            sides['right'].append(i)\n",
    "            \n",
    "        if is_close(vertices[i, 1], y1):\n",
    "            sides['top'].append(i)\n",
    "            \n",
    "        if is_close(vertices[i, 1], y2):\n",
    "            sides['bottom'].append(i)\n",
    "    \n",
    "    return sides\n",
    "\n",
    "cage_sides = find_cage_side_indices(mesh_vertices, square_x1, square_x2, square_y1, square_y2)\n",
    "\n",
    "for key in cage_sides:\n",
    "    print(f\"{key}: {cage_sides[key]}\")"
   ]
  },
  {
   "cell_type": "code",
   "execution_count": null,
   "id": "3f08752c-13c7-4763-8e64-c82d3b6f4fca",
   "metadata": {},
   "outputs": [],
   "source": [
    "# Sort vertices on each side (counterclock-wise)\n",
    "# Useful later for displaying the cage\n",
    "\n",
    "left_sorted = sorted(cage_sides['left'], key=lambda i: -mesh_vertices[i, 1])\n",
    "right_sorted = sorted(cage_sides['right'], key=lambda i: mesh_vertices[i, 1])\n",
    "bottom_sorted  = sorted(cage_sides['bottom'], key=lambda i: mesh_vertices[i, 0])\n",
    "top_sorted = sorted(cage_sides['top'], key=lambda i: -mesh_vertices[i, 0])\n",
    "\n",
    "print(f\"left: {left_sorted}\")\n",
    "print(f\"right: {right_sorted}\")\n",
    "print(f\"bottom: {bottom_sorted}\")\n",
    "print(f\"top: {top_sorted}\")"
   ]
  },
  {
   "cell_type": "code",
   "execution_count": null,
   "id": "9ed7cd3e-de96-4aa5-88b6-4be693107466",
   "metadata": {},
   "outputs": [],
   "source": [
    "# Right now, there are too many cage vertices, which is unnecessary and might restrict the influence of individual cage vertices.\n",
    "# So let's reduce the number of cage vertices.\n",
    "\n",
    "left_reduced = [left_sorted[0]] + left_sorted[2:-1:2] + [left_sorted[-1]]\n",
    "right_reduced = [right_sorted[0]] + right_sorted[2:-1:2] + [right_sorted[-1]]\n",
    "bottom_reduced = [bottom_sorted[0]] + bottom_sorted[2:-1:2] + [bottom_sorted[-1]]\n",
    "top_reduced = [top_sorted[0]] + top_sorted[2:-1:2] + [top_sorted[-1]]\n",
    "\n",
    "print(f\"left: {left_reduced}\")\n",
    "print(f\"right: {right_reduced}\")\n",
    "print(f\"bottom: {bottom_reduced}\")\n",
    "print(f\"top: {top_reduced}\")\n",
    "\n",
    "cage_sides['left'] = left_reduced\n",
    "cage_sides['right'] = right_reduced\n",
    "cage_sides['bottom'] = bottom_reduced\n",
    "cage_sides['top'] = top_reduced"
   ]
  },
  {
   "cell_type": "code",
   "execution_count": null,
   "id": "d0e62e7a-f2be-4c36-9ca3-9ea4774a659c",
   "metadata": {},
   "outputs": [],
   "source": [
    "cage_indices = left_reduced[:-1] + bottom_reduced[:-1] + right_reduced[:-1] + top_reduced[:-1]\n",
    "\n",
    "# plot the cage vertices to see if they look correct\n",
    "p = mp.plot(mesh_vertices, mesh_triangles, shading={\"wireframe\": True})\n",
    "p.add_points(mesh_vertices[cage_indices], shading={\"point_size\": 15, \"point_color\":\"red\"})"
   ]
  },
  {
   "cell_type": "code",
   "execution_count": null,
   "id": "58ba9e34-f7fa-42a2-80bc-cc5d1d3f0b28",
   "metadata": {},
   "outputs": [],
   "source": [
    "import json\n",
    "\n",
    "\"\"\"\n",
    "In the .off file, the first four vertices correspond to the four corners of the square,\n",
    "and the next 10 vertices correspond to the vertices of the star.\n",
    "\"\"\"\n",
    "\n",
    "data = {\n",
    "    \"square_n\": n_square,\n",
    "    \"cage_n\": len(cage_indices),\n",
    "    \"cage_indices\": [int(i) for i in cage_indices],\n",
    "    \"cage_sides\": cage_sides,\n",
    "    \"star_n\": n_star,\n",
    "    \"star_indices\": [i+n_square for i in range(n_star)],\n",
    "}\n",
    "\n",
    "with open(\"./data/star_meta.txt\", \"w\") as f:\n",
    "    json.dump(data, f)"
   ]
  },
  {
   "cell_type": "code",
   "execution_count": null,
   "id": "0ee74806-5421-4620-82f4-0be39a027eaf",
   "metadata": {},
   "outputs": [],
   "source": []
  }
 ],
 "metadata": {
  "kernelspec": {
   "display_name": "Python 3 (ipykernel)",
   "language": "python",
   "name": "python3"
  },
  "language_info": {
   "codemirror_mode": {
    "name": "ipython",
    "version": 3
   },
   "file_extension": ".py",
   "mimetype": "text/x-python",
   "name": "python",
   "nbconvert_exporter": "python",
   "pygments_lexer": "ipython3",
   "version": "3.10.17"
  }
 },
 "nbformat": 4,
 "nbformat_minor": 5
}
