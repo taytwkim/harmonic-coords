{
 "cells": [
  {
   "cell_type": "code",
   "execution_count": null,
   "id": "3a6268eb-9e7a-4ac9-9604-1823b56421e6",
   "metadata": {},
   "outputs": [],
   "source": [
    "import numpy as np\n",
    "import igl\n",
    "import meshplot as mp\n",
    "import scipy.sparse as sp\n",
    "import json"
   ]
  },
  {
   "cell_type": "markdown",
   "id": "94a83f27-f7f4-487e-aadf-647939b97845",
   "metadata": {},
   "source": [
    "# Prepare Data"
   ]
  },
  {
   "cell_type": "code",
   "execution_count": null,
   "id": "a2e795ed-c529-4f62-83d0-20e8cefe30a4",
   "metadata": {},
   "outputs": [],
   "source": [
    "v, f = igl.read_triangle_mesh('data/star.off')\n",
    "v -= v.min(axis=0)\n",
    "v /= v.max()"
   ]
  },
  {
   "cell_type": "code",
   "execution_count": null,
   "id": "a3ee5e04-e12d-4236-9081-a4c5c358b0bf",
   "metadata": {},
   "outputs": [],
   "source": [
    "plot = mp.plot(v, f, shading={\"wireframe\": True})"
   ]
  },
  {
   "cell_type": "code",
   "execution_count": null,
   "id": "61ebaaf4-9b54-421b-810d-4bcd0ebd26e4",
   "metadata": {},
   "outputs": [],
   "source": [
    "with open(\"./data/star_meta.txt\", \"r\") as file:\n",
    "    meta = json.load(file)\n",
    "\n",
    "cage_n = meta['cage_n']\n",
    "star_n = meta['star_n']\n",
    "\n",
    "cage_indices = np.array(meta['cage_indices'])\n",
    "star_indices = np.array(meta['star_indices'])\n",
    "\n",
    "cage_points = v[cage_indices]\n",
    "star_points = v[star_indices]\n",
    "\n",
    "sides = meta['cage_sides']"
   ]
  },
  {
   "cell_type": "code",
   "execution_count": null,
   "id": "5e5c3dde-982f-470f-94ea-af89e84702b4",
   "metadata": {},
   "outputs": [],
   "source": [
    "# function to display cage + shape only (not the entire mesh)\n",
    "def display(cage_n, cage_points, star_n, star_points):\n",
    "\n",
    "    points = np.vstack([cage_points, star_points])\n",
    "    \n",
    "    cage_edges = [[i, (i+1) % cage_n] for i in range(cage_n)]\n",
    "    star_edges = [[cage_n + i, cage_n + (i + 1) % star_n] for i in range(star_n)]\n",
    "    \n",
    "    edges = np.array(cage_edges + star_edges)\n",
    "\n",
    "    plot = mp.plot(points, shading={\"point_size\": 0.1})\n",
    "    plot.add_edges(points, edges)\n",
    "\n",
    "display(cage_n, cage_points, star_n, star_points)"
   ]
  },
  {
   "cell_type": "markdown",
   "id": "c98d2166-70d8-42b2-91c3-01685efaecd6",
   "metadata": {},
   "source": [
    "# Compute Harmonic Coordinates"
   ]
  },
  {
   "cell_type": "code",
   "execution_count": null,
   "id": "0160bfbd-d099-4b31-950b-8dcac81a9100",
   "metadata": {},
   "outputs": [],
   "source": [
    "# compute harmonic weights for a given cage vertex\n",
    "# returns a (# vertices, 1) column vector\n",
    "def compute_hi(V, F, cage_indices, ci):\n",
    "    \n",
    "    L = igl.cotmatrix(V, F)\n",
    "    b = np.zeros(V.shape[0])\n",
    "    \n",
    "    L = L.tolil()\n",
    "    \n",
    "    for i in cage_indices:\n",
    "        L[i, :] = 0\n",
    "        L[i, i] = 1\n",
    "        b[i] = 1 if i == ci else 0\n",
    "    \n",
    "    L = L.tocsc()\n",
    "    hi = sp.linalg.spsolve(L, b)\n",
    "\n",
    "    return hi"
   ]
  },
  {
   "cell_type": "code",
   "execution_count": null,
   "id": "52b1f617-6d4d-4666-8522-4e3bf6279071",
   "metadata": {},
   "outputs": [],
   "source": [
    "# a different version - using igl's harmonic function\n",
    "def compute_hi2(V, F, cage_indices, ci):\n",
    "    b = np.array(cage_indices)\n",
    "\n",
    "    index = 0\n",
    "    for i in range(len(cage_indices)):\n",
    "        if i == ci:\n",
    "            index = i\n",
    "    \n",
    "    bc = np.zeros((len(cage_indices), 1))\n",
    "    bc[index] = 1.0\n",
    "    \n",
    "    hi = igl.harmonic(V, F, b, bc, 1)\n",
    "\n",
    "    return hi.flatten()"
   ]
  },
  {
   "cell_type": "code",
   "execution_count": null,
   "id": "0acc56f8-feb1-4c0d-b0c9-c8f6a596fcd6",
   "metadata": {},
   "outputs": [],
   "source": [
    "def compute_H(V, F, cage_indices):\n",
    "    H = np.zeros((V.shape[0], len(cage_indices)))\n",
    "\n",
    "    for i, ci in enumerate(cage_indices):\n",
    "        hi = compute_hi(V, F, cage_indices, ci)\n",
    "        H[:, i] = hi\n",
    "\n",
    "    return H"
   ]
  },
  {
   "cell_type": "code",
   "execution_count": null,
   "id": "bec1c17b-5e68-4d11-9dbb-0e94ad4b5f42",
   "metadata": {},
   "outputs": [],
   "source": [
    "H = compute_H(v, f, cage_indices)\n",
    "\n",
    "row_sums = np.sum(H, axis=1)\n",
    "print(f\"Min sum: {row_sums.min()}, Max sum: {row_sums.max()}\") # each row's sum should be (close to) 1."
   ]
  },
  {
   "cell_type": "markdown",
   "id": "4f8c4f81-b16c-4797-bbdc-d2e17f03578e",
   "metadata": {},
   "source": [
    "# Deformation"
   ]
  },
  {
   "cell_type": "code",
   "execution_count": null,
   "id": "ff900645-27da-477b-84da-63a16795b5d9",
   "metadata": {},
   "outputs": [],
   "source": [
    "# Update handles (four corners of the square) to deform cage\n",
    "# After moving the handle, interpolate other cage vertices as necessary\n",
    "# e.g., if we update the upper-left corner, interpolate the points along the left/top sides of the square\n",
    "\n",
    "def deform_cage(delta):\n",
    "    \"\"\"\n",
    "    deform cage by updating the handles and interpolating rest of the cage vertices\n",
    "    input is delta of shape (4 x 3), each row corresonding to the displacement for corner i\n",
    "    \"\"\"\n",
    "    \n",
    "    v_copy = v.copy()\n",
    "\n",
    "    UL, LL, LR, UR = 0, 1, 2, 3 # upper left, lower left, ...\n",
    "\n",
    "    corners = [v[UL] + delta[0], v[LL] + delta[1], v[LR] + delta[2], v[UR] + delta[3]]\n",
    "\n",
    "    # left side: interpolate between upper-left and lower-left\n",
    "    y_top = v[UL][1]\n",
    "    y_bot = v[LL][1]\n",
    "    \n",
    "    for idx in sides[\"left\"]:\n",
    "        y_orig = v[idx][1]\n",
    "        t = (y_orig - y_top) / (y_bot - y_top)\n",
    "        new_pos = (1 - t) * corners[0] + t * corners[1]\n",
    "        v_copy[idx][:2] = new_pos[:2]\n",
    "\n",
    "    # right side: interpolate between lower-right to upper-right\n",
    "    y_top = v[UR][1]\n",
    "    y_bot = v[LR][1]\n",
    "    \n",
    "    for idx in sides[\"right\"]:\n",
    "        y_orig = v[idx][1]\n",
    "        t = (y_orig - y_top) / (y_bot - y_top)\n",
    "        new_pos = (1 - t) * corners[3] + t * corners[2]\n",
    "        v_copy[idx][:2] = new_pos[:2]\n",
    "\n",
    "    # top side: interpolate between upper-left to upper-right\n",
    "    x_left = v[UL][0]\n",
    "    x_right = v[UR][0]\n",
    "    \n",
    "    for idx in sides[\"top\"]:\n",
    "        x_orig = v[idx][0]\n",
    "        t = (x_orig - x_left) / (x_right - x_left)\n",
    "        new_pos = (1 - t) * corners[0] + t * corners[3]\n",
    "        v_copy[idx][:2] = new_pos[:2]\n",
    "\n",
    "    # bottom side: interpolate between lower-left to lower-right\n",
    "    x_left = v[LL][0]\n",
    "    x_right = v[LR][0]\n",
    "    \n",
    "    for idx in sides[\"bottom\"]:\n",
    "        x_orig = v[idx][0]\n",
    "        t = (x_orig - x_left) / (x_right - x_left)\n",
    "        new_pos = (1 - t) * corners[1] + t * corners[2]\n",
    "        v_copy[idx][:2] = new_pos[:2]\n",
    "\n",
    "    return v_copy"
   ]
  },
  {
   "cell_type": "code",
   "execution_count": null,
   "id": "270cd5d2-5ad0-405a-84f0-cef85423f086",
   "metadata": {},
   "outputs": [],
   "source": [
    "delta = np.zeros((4, 3))\n",
    "\n",
    "# deform cage by setting displacements for the handles\n",
    "delta[0] = [-0.3, 0, 0] # upper left\n",
    "delta[1] = [0.3, 0, 0] # lower left\n",
    "delta[2] = [0.3, 0, 0] # lower right\n",
    "delta[3] = [-0.3, 0, 0] # upper right\n",
    "\n",
    "v_copy = deform_cage(delta)"
   ]
  },
  {
   "cell_type": "code",
   "execution_count": null,
   "id": "0d463f63-2cb2-4b73-a117-78bb4885fac0",
   "metadata": {},
   "outputs": [],
   "source": [
    "# display the deformed cage (the shape is not deformed yet)\n",
    "display(cage_n, v_copy[cage_indices], star_n, star_points)"
   ]
  },
  {
   "cell_type": "code",
   "execution_count": null,
   "id": "c81365dd-b0f7-485e-a88e-f6aaaa07b205",
   "metadata": {},
   "outputs": [],
   "source": [
    "def deform_shape(v, H):    \n",
    "    cage_deformed = v[cage_indices]\n",
    "    \n",
    "    v_deformed = H @ cage_deformed\n",
    "    star_deformed = v_deformed[star_indices]\n",
    "    \n",
    "    display(cage_n, cage_deformed, star_n, star_deformed)"
   ]
  },
  {
   "cell_type": "code",
   "execution_count": null,
   "id": "63102c64-3a16-43bc-83cf-feca2acb48ac",
   "metadata": {},
   "outputs": [],
   "source": [
    "deform_shape(v_copy, H) # display the deformed shape"
   ]
  },
  {
   "cell_type": "code",
   "execution_count": null,
   "id": "a96fac77-3362-4d4d-a8e4-22d86046f96b",
   "metadata": {},
   "outputs": [],
   "source": []
  }
 ],
 "metadata": {
  "kernelspec": {
   "display_name": "Python 3 (ipykernel)",
   "language": "python",
   "name": "python3"
  },
  "language_info": {
   "codemirror_mode": {
    "name": "ipython",
    "version": 3
   },
   "file_extension": ".py",
   "mimetype": "text/x-python",
   "name": "python",
   "nbconvert_exporter": "python",
   "pygments_lexer": "ipython3",
   "version": "3.10.17"
  }
 },
 "nbformat": 4,
 "nbformat_minor": 5
}
