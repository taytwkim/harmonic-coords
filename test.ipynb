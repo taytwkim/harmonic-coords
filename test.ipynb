{
 "cells": [
  {
   "cell_type": "markdown",
   "id": "e26e00b9-3c63-40f1-a425-19a714ec6cf3",
   "metadata": {},
   "source": [
    "# Harmonic Coordinates on a Regular Grid\n",
    "\n",
    "This is where I test harmonic coordinates on a regular grid to verify its behavior."
   ]
  },
  {
   "cell_type": "code",
   "execution_count": null,
   "id": "eaf03579-db70-4be5-ba05-cac56ca82030",
   "metadata": {},
   "outputs": [],
   "source": [
    "import numpy as np\n",
    "import igl\n",
    "import meshplot as mp\n",
    "import scipy.sparse as sp"
   ]
  },
  {
   "cell_type": "code",
   "execution_count": null,
   "id": "6d7c45cf-9b0c-4ff0-9407-9dbc2322d3a6",
   "metadata": {},
   "outputs": [],
   "source": [
    "nx, ny = 5, 5\n",
    "v, f = igl.triangulated_grid(nx, ny)\n",
    "v = np.hstack([v, np.zeros((v.shape[0], 1))]) # add z-axis"
   ]
  },
  {
   "cell_type": "code",
   "execution_count": null,
   "id": "e4522bc0-9a54-458b-b741-1b5ddc8da186",
   "metadata": {},
   "outputs": [],
   "source": [
    "mp.plot(v, f, shading={\"wireframe\": True}) # display regular grid"
   ]
  },
  {
   "cell_type": "code",
   "execution_count": null,
   "id": "745d3e18-94a0-404b-b9fe-4737703375f3",
   "metadata": {},
   "outputs": [],
   "source": [
    "cage_indices = [0, 2, 4, 10, 14, 20, 22, 24]\n",
    "\n",
    "p = mp.plot(v, f, shading={\"wireframe\": True})\n",
    "p.add_points(v[cage_indices], shading={\"point_size\": 0.1, \"point_color\":\"red\"})"
   ]
  },
  {
   "cell_type": "code",
   "execution_count": null,
   "id": "5c414c7b-f39b-4cfc-924f-415ed89e8998",
   "metadata": {},
   "outputs": [],
   "source": [
    "def compute_hi(V, F, cage_indices, ci):\n",
    "    \n",
    "    L = igl.cotmatrix(V, F)\n",
    "    b = np.zeros(V.shape[0])\n",
    "    \n",
    "    L = L.tolil()\n",
    "    \n",
    "    for i in cage_indices:\n",
    "        L[i, :] = 0\n",
    "        L[i, i] = 1\n",
    "        b[i] = 1 if i == ci else 0\n",
    "    \n",
    "    L = L.tocsc()\n",
    "    hi = sp.linalg.spsolve(L, b)\n",
    "\n",
    "    return hi"
   ]
  },
  {
   "cell_type": "code",
   "execution_count": null,
   "id": "c931ecf1-b1a8-4c45-88bf-9ea20acc93b5",
   "metadata": {},
   "outputs": [],
   "source": [
    "def compute_H(V, F, cage_indices):\n",
    "    H = np.zeros((V.shape[0], len(cage_indices)))\n",
    "\n",
    "    for i, ci in enumerate(cage_indices):\n",
    "        hi = compute_hi(V, F, cage_indices, ci)\n",
    "        H[:, i] = hi\n",
    "\n",
    "    return H"
   ]
  },
  {
   "cell_type": "code",
   "execution_count": null,
   "id": "2fbe795e-4e32-4020-ab85-0df832ee80d5",
   "metadata": {},
   "outputs": [],
   "source": [
    "H = compute_H(v, f, cage_indices)\n",
    "row_sums = np.sum(H, axis=1)\n",
    "print(f\"Min sum: {row_sums.min()}, Max sum: {row_sums.max()}\") # the each row's sum should be (close to) 1."
   ]
  },
  {
   "cell_type": "code",
   "execution_count": null,
   "id": "6d8866de-5720-4bb6-a2fe-7585259d0f2c",
   "metadata": {},
   "outputs": [],
   "source": [
    "# display weights\n",
    "ci = 1\n",
    "p = mp.plot(v, f, c=H[:,ci], shading={\"wireframe\": True})\n",
    "p.add_points(v[[cage_indices[ci]]], shading={\"point_size\": 0.15, \"point_color\":\"red\"})"
   ]
  },
  {
   "cell_type": "code",
   "execution_count": null,
   "id": "a658e968-91d0-4a32-8b81-5021b7e9d077",
   "metadata": {},
   "outputs": [],
   "source": []
  }
 ],
 "metadata": {
  "kernelspec": {
   "display_name": "Python 3 (ipykernel)",
   "language": "python",
   "name": "python3"
  },
  "language_info": {
   "codemirror_mode": {
    "name": "ipython",
    "version": 3
   },
   "file_extension": ".py",
   "mimetype": "text/x-python",
   "name": "python",
   "nbconvert_exporter": "python",
   "pygments_lexer": "ipython3",
   "version": "3.10.17"
  }
 },
 "nbformat": 4,
 "nbformat_minor": 5
}
